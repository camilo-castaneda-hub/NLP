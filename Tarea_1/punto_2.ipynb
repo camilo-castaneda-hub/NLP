{
 "cells": [
  {
   "cell_type": "markdown",
   "metadata": {},
   "source": [
    "# Tarea 1\n",
    "## Punto 2"
   ]
  },
  {
   "cell_type": "markdown",
   "metadata": {},
   "source": [
    "Comparación de estrategias de motores de búsqueda\n",
    "A continuación, implementará un motor de búsqueda con cuatro estrategias diferentes.\n",
    "1. Búsqueda binaria usando índice invertido (BSII)\n",
    "3. Recuperación ranqueada y vectorización de documentos (RRDV)\n",
    "Debe hacer su propia implementación usando numpy y pandas.\n",
    "\n",
    "Conjunto de datos: hay tres archivos que componen el conjunto de datos: \n",
    "- “Docs raws texts\" contiene 331 documentos en formato NAF (XML; debe usar el título y el \n",
    "contenido para modelar cada documento). \n",
    "- \"Queries raw texts\" contiene 35 consultas. \n",
    "- \"relevance-judgments.tsv\" contiene para cada consulta los documentos considerados relevantes \n",
    "para cada una de las consultas. Estos documentos relevantes fueron construidos manualmente por \n",
    "jueces humanos y sirven como “ground-truth” y evaluación.\n",
    "\n",
    "Pasos de preprocesamiento: para los siguientes puntos, debe preprocesar documentos y consultas \n",
    "mediante tokenización a nivel de palabra, eliminación de palabras vacías, normalización y stemming.\n"
   ]
  },
  {
   "cell_type": "code",
   "execution_count": 28,
   "metadata": {},
   "outputs": [],
   "source": [
    "import numpy as np\n",
    "import pandas as pd\n",
    "import zipfile\n",
    "import os\n",
    "import xml.etree.ElementTree as ET\n",
    "from nltk.tokenize import word_tokenize\n",
    "from nltk.corpus import PlaintextCorpusReader"
   ]
  },
  {
   "cell_type": "code",
   "execution_count": 29,
   "metadata": {},
   "outputs": [
    {
     "name": "stdout",
     "output_type": "stream",
     "text": [
      "Extracción completada\n"
     ]
    }
   ],
   "source": [
    "# Se extraen los datos de los archivos comprimidos\n",
    "\n",
    "# Specify the paths to the compressed files and the target directory\n",
    "compressed_files = ['docs-raw-texts.zip', 'queries-raw-texts.zip']\n",
    "\n",
    "# Extract files from each compressed file\n",
    "for compressed_file in compressed_files:\n",
    "    with zipfile.ZipFile(compressed_file, 'r') as zip_ref:\n",
    "        folder_name = os.path.splitext(compressed_file)[0]  # Remove the \".zip\" extension\n",
    "        target_folder = os.path.join(folder_name)\n",
    "        \n",
    "        # Create the folder within the target directory\n",
    "        os.mkdir(target_folder)\n",
    "        \n",
    "        # Extract all files to the target folder\n",
    "        zip_ref.extractall(target_folder)\n",
    "\n",
    "print(\"Extracción completada\")\n"
   ]
  },
  {
   "cell_type": "markdown",
   "metadata": {},
   "source": [
    "## Creación del Corpus\n"
   ]
  },
  {
   "cell_type": "markdown",
   "metadata": {},
   "source": [
    "### carga de datos"
   ]
  },
  {
   "cell_type": "code",
   "execution_count": 30,
   "metadata": {},
   "outputs": [
    {
     "name": "stderr",
     "output_type": "stream",
     "text": [
      "[nltk_data] Downloading package stopwords to\n",
      "[nltk_data]     C:\\Users\\santi\\AppData\\Roaming\\nltk_data...\n",
      "[nltk_data]   Package stopwords is already up-to-date!\n"
     ]
    },
    {
     "name": "stdout",
     "output_type": "stream",
     "text": [
      "Inverted index created.\n"
     ]
    }
   ],
   "source": [
    "import os\n",
    "import xml.etree.ElementTree as ET\n",
    "from nltk.tokenize import RegexpTokenizer\n",
    "from nltk.corpus import stopwords\n",
    "from nltk.stem import PorterStemmer\n",
    "import nltk\n",
    "\n",
    "# Download the NLTK stopwords resource\n",
    "nltk.download('stopwords')\n",
    "\n",
    "# Directory containing the extracted XML files\n",
    "xml_files_directory = 'docs-raw-texts'\n",
    "\n",
    "# NLTK setup\n",
    "tokenizer = RegexpTokenizer(r'\\w+')\n",
    "stemmer = PorterStemmer()\n",
    "stop_words = set(stopwords.words('english'))\n",
    "\n",
    "# Function to preprocess the document text\n",
    "def preprocess_text(text):\n",
    "    tokens = tokenizer.tokenize(text.strip().lower())\n",
    "    tokens = [stemmer.stem(word) for word in tokens if word not in stop_words]\n",
    "    return tokens\n",
    "\n",
    "# Dictionary to store the inverted index\n",
    "inverted_index = {}\n",
    "\n",
    "# Iterate over XML files in the directory\n",
    "for filename in os.listdir(xml_files_directory):\n",
    "    if filename.endswith('.naf'):\n",
    "        xml_path = os.path.join(xml_files_directory, filename)\n",
    "        \n",
    "        # Parse the XML file\n",
    "        tree = ET.parse(xml_path)\n",
    "        root = tree.getroot()\n",
    "        \n",
    "        # Extract content from the XML\n",
    "        content = root.find('raw').text\n",
    "        \n",
    "        # Preprocess the content\n",
    "        preprocessed_tokens = preprocess_text(content)\n",
    "        \n",
    "        # Create the inverted index\n",
    "        for term in preprocessed_tokens:\n",
    "            if term in inverted_index:\n",
    "                inverted_index[term].append(filename)\n",
    "            else:\n",
    "                inverted_index[term] = [filename]\n",
    "\n",
    "print(\"Inverted index created.\")\n",
    "\n",
    "# You can now save the inverted index to a variable or a file as needed\n",
    "# For example, to save it to a variable:\n",
    "inverted_index_variable = inverted_index\n"
   ]
  },
  {
   "cell_type": "code",
   "execution_count": 31,
   "metadata": {},
   "outputs": [
    {
     "data": {
      "text/plain": [
       "['wes2015.d001.naf',\n",
       " 'wes2015.d001.naf',\n",
       " 'wes2015.d001.naf',\n",
       " 'wes2015.d001.naf',\n",
       " 'wes2015.d001.naf',\n",
       " 'wes2015.d009.naf',\n",
       " 'wes2015.d015.naf',\n",
       " 'wes2015.d015.naf',\n",
       " 'wes2015.d015.naf',\n",
       " 'wes2015.d015.naf',\n",
       " 'wes2015.d015.naf',\n",
       " 'wes2015.d028.naf',\n",
       " 'wes2015.d028.naf',\n",
       " 'wes2015.d028.naf',\n",
       " 'wes2015.d028.naf',\n",
       " 'wes2015.d035.naf',\n",
       " 'wes2015.d035.naf',\n",
       " 'wes2015.d055.naf',\n",
       " 'wes2015.d055.naf',\n",
       " 'wes2015.d055.naf',\n",
       " 'wes2015.d056.naf',\n",
       " 'wes2015.d056.naf',\n",
       " 'wes2015.d056.naf',\n",
       " 'wes2015.d056.naf',\n",
       " 'wes2015.d069.naf',\n",
       " 'wes2015.d069.naf',\n",
       " 'wes2015.d069.naf',\n",
       " 'wes2015.d069.naf',\n",
       " 'wes2015.d069.naf',\n",
       " 'wes2015.d078.naf',\n",
       " 'wes2015.d078.naf',\n",
       " 'wes2015.d078.naf',\n",
       " 'wes2015.d078.naf',\n",
       " 'wes2015.d088.naf',\n",
       " 'wes2015.d088.naf',\n",
       " 'wes2015.d088.naf',\n",
       " 'wes2015.d091.naf',\n",
       " 'wes2015.d092.naf',\n",
       " 'wes2015.d095.naf',\n",
       " 'wes2015.d098.naf',\n",
       " 'wes2015.d098.naf',\n",
       " 'wes2015.d102.naf',\n",
       " 'wes2015.d102.naf',\n",
       " 'wes2015.d102.naf',\n",
       " 'wes2015.d102.naf',\n",
       " 'wes2015.d106.naf',\n",
       " 'wes2015.d109.naf',\n",
       " 'wes2015.d111.naf',\n",
       " 'wes2015.d129.naf',\n",
       " 'wes2015.d136.naf',\n",
       " 'wes2015.d136.naf',\n",
       " 'wes2015.d136.naf',\n",
       " 'wes2015.d136.naf',\n",
       " 'wes2015.d136.naf',\n",
       " 'wes2015.d136.naf',\n",
       " 'wes2015.d136.naf',\n",
       " 'wes2015.d138.naf',\n",
       " 'wes2015.d138.naf',\n",
       " 'wes2015.d138.naf',\n",
       " 'wes2015.d147.naf',\n",
       " 'wes2015.d175.naf',\n",
       " 'wes2015.d179.naf',\n",
       " 'wes2015.d179.naf',\n",
       " 'wes2015.d180.naf',\n",
       " 'wes2015.d189.naf',\n",
       " 'wes2015.d189.naf',\n",
       " 'wes2015.d190.naf',\n",
       " 'wes2015.d191.naf',\n",
       " 'wes2015.d193.naf',\n",
       " 'wes2015.d197.naf',\n",
       " 'wes2015.d212.naf',\n",
       " 'wes2015.d230.naf',\n",
       " 'wes2015.d231.naf',\n",
       " 'wes2015.d241.naf',\n",
       " 'wes2015.d241.naf',\n",
       " 'wes2015.d254.naf',\n",
       " 'wes2015.d257.naf',\n",
       " 'wes2015.d266.naf',\n",
       " 'wes2015.d266.naf',\n",
       " 'wes2015.d272.naf',\n",
       " 'wes2015.d273.naf',\n",
       " 'wes2015.d273.naf',\n",
       " 'wes2015.d273.naf',\n",
       " 'wes2015.d273.naf',\n",
       " 'wes2015.d273.naf',\n",
       " 'wes2015.d273.naf',\n",
       " 'wes2015.d273.naf',\n",
       " 'wes2015.d274.naf',\n",
       " 'wes2015.d289.naf',\n",
       " 'wes2015.d291.naf',\n",
       " 'wes2015.d294.naf',\n",
       " 'wes2015.d299.naf',\n",
       " 'wes2015.d300.naf',\n",
       " 'wes2015.d309.naf',\n",
       " 'wes2015.d310.naf',\n",
       " 'wes2015.d310.naf',\n",
       " 'wes2015.d310.naf',\n",
       " 'wes2015.d310.naf',\n",
       " 'wes2015.d320.naf',\n",
       " 'wes2015.d320.naf',\n",
       " 'wes2015.d320.naf',\n",
       " 'wes2015.d320.naf',\n",
       " 'wes2015.d320.naf',\n",
       " 'wes2015.d323.naf',\n",
       " 'wes2015.d330.naf',\n",
       " 'wes2015.d330.naf',\n",
       " 'wes2015.d330.naf',\n",
       " 'wes2015.d330.naf',\n",
       " 'wes2015.d330.naf',\n",
       " 'wes2015.d330.naf']"
      ]
     },
     "execution_count": 31,
     "metadata": {},
     "output_type": "execute_result"
    }
   ],
   "source": [
    "inverted_index_variable[preprocess_text(\"william\")[0]]"
   ]
  },
  {
   "cell_type": "code",
   "execution_count": null,
   "metadata": {},
   "outputs": [],
   "source": []
  }
 ],
 "metadata": {
  "kernelspec": {
   "display_name": "anteia",
   "language": "python",
   "name": "python3"
  },
  "language_info": {
   "codemirror_mode": {
    "name": "ipython",
    "version": 3
   },
   "file_extension": ".py",
   "mimetype": "text/x-python",
   "name": "python",
   "nbconvert_exporter": "python",
   "pygments_lexer": "ipython3",
   "version": "3.11.4"
  },
  "orig_nbformat": 4
 },
 "nbformat": 4,
 "nbformat_minor": 2
}
